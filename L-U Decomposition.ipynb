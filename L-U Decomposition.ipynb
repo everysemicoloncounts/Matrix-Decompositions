{
 "cells": [
  {
   "cell_type": "code",
   "execution_count": 1,
   "metadata": {},
   "outputs": [],
   "source": [
    "import scipy.linalg"
   ]
  },
  {
   "cell_type": "code",
   "execution_count": 5,
   "metadata": {},
   "outputs": [
    {
     "name": "stdout",
     "output_type": "stream",
     "text": [
      "[[ 1  2  3  4]\n",
      " [ 4  5  6  7]\n",
      " [10 11  9  8]\n",
      " [12 13 15 14]]\n"
     ]
    },
    {
     "name": "stderr",
     "output_type": "stream",
     "text": [
      "<ipython-input-5-1c1790f48fee>:1: DeprecationWarning: scipy.array is deprecated and will be removed in SciPy 2.0.0, use numpy.array instead\n",
      "  A = scipy.array([[1, 2, 3,4],\n"
     ]
    }
   ],
   "source": [
    "A = scipy.array([[1, 2, 3,4],\n",
    "             [4, 5, 6,7],\n",
    "             [10, 11, 9,8],\n",
    "             [12,13,15,14]])\n",
    "print(A)"
   ]
  },
  {
   "cell_type": "code",
   "execution_count": 6,
   "metadata": {},
   "outputs": [
    {
     "name": "stdout",
     "output_type": "stream",
     "text": [
      "[[0. 1. 0. 0.]\n",
      " [0. 0. 0. 1.]\n",
      " [0. 0. 1. 0.]\n",
      " [1. 0. 0. 0.]]\n",
      "[[1.         0.         0.         0.        ]\n",
      " [0.08333333 1.         0.         0.        ]\n",
      " [0.83333333 0.18181818 1.         0.        ]\n",
      " [0.33333333 0.72727273 0.07142857 1.        ]]\n",
      "[[12.         13.         15.         14.        ]\n",
      " [ 0.          0.91666667  1.75        2.83333333]\n",
      " [ 0.          0.         -3.81818182 -4.18181818]\n",
      " [ 0.          0.          0.          0.57142857]]\n"
     ]
    }
   ],
   "source": [
    "P, L, U = scipy.linalg.lu(A)\n",
    "print(P)\n",
    "print(L)\n",
    "print(U)"
   ]
  },
  {
   "cell_type": "code",
   "execution_count": null,
   "metadata": {},
   "outputs": [],
   "source": []
  }
 ],
 "metadata": {
  "kernelspec": {
   "display_name": "Python 3",
   "language": "python",
   "name": "python3"
  },
  "language_info": {
   "codemirror_mode": {
    "name": "ipython",
    "version": 3
   },
   "file_extension": ".py",
   "mimetype": "text/x-python",
   "name": "python",
   "nbconvert_exporter": "python",
   "pygments_lexer": "ipython3",
   "version": "3.8.5"
  }
 },
 "nbformat": 4,
 "nbformat_minor": 4
}
