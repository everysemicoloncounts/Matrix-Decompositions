{
 "cells": [
  {
   "cell_type": "code",
   "execution_count": 2,
   "metadata": {},
   "outputs": [],
   "source": [
    "import pprint\n",
    "import scipy\n",
    "import scipy.linalg"
   ]
  },
  {
   "cell_type": "code",
   "execution_count": 3,
   "metadata": {},
   "outputs": [
    {
     "name": "stderr",
     "output_type": "stream",
     "text": [
      "<ipython-input-3-46569df2b9f7>:1: DeprecationWarning: scipy.array is deprecated and will be removed in SciPy 2.0.0, use numpy.array instead\n",
      "  A = scipy.array([[1, 1, 1], [0, 1, 0], [0, 1, 1]])  # From the Wikipedia Article on QR Decomposition\n"
     ]
    }
   ],
   "source": [
    "A = scipy.array([[1, 1, 1], [0, 1, 0], [0, 1, 1]])  # From the Wikipedia Article on QR Decomposition"
   ]
  },
  {
   "cell_type": "code",
   "execution_count": 4,
   "metadata": {},
   "outputs": [],
   "source": [
    "Q, R = scipy.linalg.qr(A)"
   ]
  },
  {
   "cell_type": "code",
   "execution_count": 5,
   "metadata": {},
   "outputs": [
    {
     "name": "stdout",
     "output_type": "stream",
     "text": [
      "A:\n",
      "array([[1, 1, 1],\n",
      "       [0, 1, 0],\n",
      "       [0, 1, 1]])\n"
     ]
    }
   ],
   "source": [
    "print (\"A:\")\n",
    "pprint.pprint(A)"
   ]
  },
  {
   "cell_type": "code",
   "execution_count": 6,
   "metadata": {},
   "outputs": [
    {
     "name": "stdout",
     "output_type": "stream",
     "text": [
      "Q:\n",
      "array([[ 1.        ,  0.        ,  0.        ],\n",
      "       [-0.        , -0.70710678, -0.70710678],\n",
      "       [-0.        , -0.70710678,  0.70710678]])\n"
     ]
    }
   ],
   "source": [
    "print (\"Q:\")\n",
    "pprint.pprint(Q)"
   ]
  },
  {
   "cell_type": "code",
   "execution_count": 7,
   "metadata": {},
   "outputs": [
    {
     "name": "stdout",
     "output_type": "stream",
     "text": [
      "R:\n",
      "array([[ 1.        ,  1.        ,  1.        ],\n",
      "       [ 0.        , -1.41421356, -0.70710678],\n",
      "       [ 0.        ,  0.        ,  0.70710678]])\n"
     ]
    }
   ],
   "source": [
    "print (\"R:\")\n",
    "pprint.pprint(R)"
   ]
  },
  {
   "cell_type": "code",
   "execution_count": null,
   "metadata": {},
   "outputs": [],
   "source": []
  }
 ],
 "metadata": {
  "kernelspec": {
   "display_name": "Python 3",
   "language": "python",
   "name": "python3"
  },
  "language_info": {
   "codemirror_mode": {
    "name": "ipython",
    "version": 3
   },
   "file_extension": ".py",
   "mimetype": "text/x-python",
   "name": "python",
   "nbconvert_exporter": "python",
   "pygments_lexer": "ipython3",
   "version": "3.8.5"
  }
 },
 "nbformat": 4,
 "nbformat_minor": 4
}
